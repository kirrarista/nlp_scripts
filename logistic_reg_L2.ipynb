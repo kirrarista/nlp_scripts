{
 "cells": [
  {
   "cell_type": "code",
   "execution_count": 796,
   "metadata": {},
   "outputs": [],
   "source": [
    "import numpy as np\n",
    "import numpy.linalg as npla\n",
    "import pandas as pd\n",
    "import matplotlib.pyplot as plt\n",
    "\n",
    "train_data = pd.read_csv('train.csv')\n",
    "test_data = pd.read_csv('test.csv')"
   ]
  },
  {
   "cell_type": "code",
   "execution_count": 797,
   "metadata": {},
   "outputs": [],
   "source": [
    "np_train_data = np.array(train_data)\n",
    "x_train = np_train_data[:, 1:-1]\n",
    "y_train = np_train_data[:, -1]\n",
    "# Standardize the data\n",
    "x_train = (x_train - np.mean(x_train, axis=0)) / (np.std(x_train, axis=0) + 1e-16)\n",
    "# Add a column of ones to x_train\n",
    "x_train = np.hstack((np.ones((x_train.shape[0], 1)), x_train))\n",
    "\n",
    "np_test_data = np.array(test_data)\n",
    "x_test = np_test_data[:, 1:]\n",
    "# Standardize the data\n",
    "x_test = (x_test - np.mean(x_test, axis=0)) / (np.std(x_test, axis=0) + 1e-16)\n",
    "# Add a column of ones to x_test\n",
    "x_test = np.hstack((np.ones((x_test.shape[0], 1)), x_test))\n"
   ]
  },
  {
   "cell_type": "code",
   "execution_count": 798,
   "metadata": {},
   "outputs": [],
   "source": [
    "def sgd(x, y, reg=1e-5, lr=1e-1, a=0.95, tol=1e-3):\n",
    "    \n",
    "    w = np.zeros(x.shape[1])\n",
    "    p = 1 / (1 + np.exp(-np.dot(x, w)))\n",
    "    \n",
    "    loss = [np.sum(y * np.log(p) + (1 - y) * np.log(1 - p)) - reg * np.dot(w, w)]\n",
    "\n",
    "    epoch = 0\n",
    "    while (True and epoch < 500):\n",
    "        epoch += 1\n",
    "        # Shuffle\n",
    "        ord = np.random.permutation(x.shape[0])\n",
    "        x = x[ord]\n",
    "        y = y[ord]\n",
    "        \n",
    "        # Update\n",
    "        for i in range(x.shape[0]):\n",
    "            w += lr * (y[i] - 1 / (1 + np.exp(-np.dot(x[i], w)))) * x[i] - 2 * reg * w\n",
    "        \n",
    "        loss.append(np.sum(y * np.log(1 / (1 + np.exp(-np.dot(x, w)))) + (1 - y) * np.log(1 - 1 / (1 + np.exp(-np.dot(x, w))))) - reg * np.dot(w, w))\n",
    "        lr *= a\n",
    "        print(loss[-1], end='\\r')\n",
    "        # Check convergence\n",
    "        if np.abs(loss[-1] - loss[-2]) < tol:\n",
    "            break\n",
    "    print(\"Fold done\")\n",
    "    return w, loss"
   ]
  },
  {
   "cell_type": "code",
   "execution_count": 799,
   "metadata": {},
   "outputs": [],
   "source": [
    "def F1score(y_true, y_pred):\n",
    "    tp = np.sum(y_true * y_pred)\n",
    "    fp = np.sum((1 - y_true) * y_pred)\n",
    "    fn = np.sum(y_true * (1 - y_pred))\n",
    "    return 2 * tp / (2 * tp + fp + fn)\n",
    "\n",
    "def split_data(x, y, k, splits):\n",
    "    n = x.shape[0]\n",
    "    low = k*n//splits\n",
    "    high = (k+1)*n//splits\n",
    "    x_train = np.concatenate((x[:low,:], x[high:,:]), axis=0)\n",
    "    y_train = np.concatenate((y[:low], y[high:]), axis=0)\n",
    "    x_test = x[low:high,:]\n",
    "    y_test = y[low:high]\n",
    "    return x_train, y_train, x_test, y_test\n",
    "\n",
    "def cross_validation(x, y, x_t, y_t):\n",
    "    regs = [1e-5]\n",
    "    lrs = [1e-1]\n",
    "    arr = [0.95]\n",
    "    best = 0\n",
    "    best_reg = None\n",
    "    best_lr = None\n",
    "    best_a = None\n",
    "    \n",
    "    for reg in regs:\n",
    "        for lr in lrs:\n",
    "            for a in arr:\n",
    "                w, _ = sgd(x, y, reg=reg, lr=lr, a=a)\n",
    "                p = 1 / (1 + np.exp(-np.dot(x_t, w)))\n",
    "                score = F1score(y_t, (p > 0.5).astype(int))\n",
    "                if score > best:\n",
    "                    best = score\n",
    "                    best_reg = reg\n",
    "                    best_lr = lr\n",
    "                    best_a = a\n",
    "    return best_reg, best_lr, best_a, best"
   ]
  },
  {
   "cell_type": "code",
   "execution_count": 800,
   "metadata": {},
   "outputs": [
    {
     "name": "stderr",
     "output_type": "stream",
     "text": [
      "/var/folders/w_/nbc8427n7xq85wq4ds42bhp80000gp/T/ipykernel_875/76273221.py:18: RuntimeWarning: overflow encountered in exp\n",
      "  w += lr * (y[i] - 1 / (1 + np.exp(-np.dot(x[i], w)))) * x[i] - 2 * reg * w\n",
      "/var/folders/w_/nbc8427n7xq85wq4ds42bhp80000gp/T/ipykernel_875/76273221.py:20: RuntimeWarning: overflow encountered in exp\n",
      "  loss.append(np.sum(y * np.log(1 / (1 + np.exp(-np.dot(x, w)))) + (1 - y) * np.log(1 - 1 / (1 + np.exp(-np.dot(x, w))))) - reg * np.dot(w, w))\n",
      "/var/folders/w_/nbc8427n7xq85wq4ds42bhp80000gp/T/ipykernel_875/76273221.py:20: RuntimeWarning: divide by zero encountered in log\n",
      "  loss.append(np.sum(y * np.log(1 / (1 + np.exp(-np.dot(x, w)))) + (1 - y) * np.log(1 - 1 / (1 + np.exp(-np.dot(x, w))))) - reg * np.dot(w, w))\n",
      "/var/folders/w_/nbc8427n7xq85wq4ds42bhp80000gp/T/ipykernel_875/76273221.py:20: RuntimeWarning: invalid value encountered in multiply\n",
      "  loss.append(np.sum(y * np.log(1 / (1 + np.exp(-np.dot(x, w)))) + (1 - y) * np.log(1 - 1 / (1 + np.exp(-np.dot(x, w))))) - reg * np.dot(w, w))\n"
     ]
    },
    {
     "name": "stdout",
     "output_type": "stream",
     "text": [
      "Fold done1204612678\n",
      "reg:  0  done\n",
      "Fold done3378098062\n",
      "reg:  1  done\n",
      "Fold done8122473315\n",
      "reg:  2  done\n",
      "Fold done3729733474\n",
      "reg:  3  done\n",
      "Fold done9773784466\n",
      "reg:  4  done\n",
      "[1e-05, 1e-05, 1e-05, 1e-05, 1e-05]\n",
      "[0.1, 0.1, 0.1, 0.1, 0.1]\n",
      "[0.95, 0.95, 0.95, 0.95, 0.95]\n",
      "[0.7397260273972602, 0.7641196013289037, 0.6782006920415224, 0.7615658362989324, 0.7166123778501629]\n"
     ]
    }
   ],
   "source": [
    "best_reg = []\n",
    "best_lr = []\n",
    "best_a = []\n",
    "best = []\n",
    "\n",
    "for i in range(5):\n",
    "    x_train_temp, y_train_temp, x_test_temp, y_test_temp = split_data(x_train, y_train, i, 10)\n",
    "    cv_result = cross_validation(x_train_temp, y_train_temp, x_test_temp, y_test_temp)\n",
    "    best_reg.append(cv_result[0])\n",
    "    best_lr.append(cv_result[1])\n",
    "    best_a.append(cv_result[2])\n",
    "    best.append(cv_result[3])\n",
    "    print(\"reg: \", i, \" done\")\n",
    "\n",
    "print(best_reg)\n",
    "print(best_lr)\n",
    "print(best_a)\n",
    "print(best)\n"
   ]
  },
  {
   "cell_type": "code",
   "execution_count": 801,
   "metadata": {},
   "outputs": [
    {
     "name": "stdout",
     "output_type": "stream",
     "text": [
      "0.7320449069833563\n"
     ]
    }
   ],
   "source": [
    "print(np.mean(best))"
   ]
  },
  {
   "cell_type": "code",
   "execution_count": 813,
   "metadata": {},
   "outputs": [
    {
     "data": {
      "image/png": "[encoded data removed]",
      "text/plain": [
       "<Figure size 432x288 with 1 Axes>"
      ]
     },
     "metadata": {
      "needs_background": "light"
     },
     "output_type": "display_data"
    }
   ],
   "source": [
    "# Plot the accuracy vs. the size of the training set\n",
    "accs = [0.6877127750997746,\n",
    "        0.6788183975135565,\n",
    "        0.6624871392382672,\n",
    "        0.7320449069833563,\n",
    "        0.7296310924806243,\n",
    "        0.6590061849704013,\n",
    "        0.5950169573833152,\n",
    "        0.5396357999419127,\n",
    "        0.4291301087192996]\n",
    "plt.plot([0, 1e-7, 1e-6, 1e-5, 1e-4, 1e-3, 1e-2, 1e-1, 1], accs, 'o-')\n",
    "plt.xscale('log')\n",
    "# plt.ylim(0.75, 1)\n",
    "# plt.xticks(train_size * 100)\n",
    "plt.xlabel('Lambda')\n",
    "plt.ylabel('Accuracy')\n",
    "plt.title('Accuracy vs. Size of Lambda (Linear Scale)')\n",
    "# Export plot as .png\n",
    "plt.savefig('logreg_tru.jpg')"
   ]
  },
  {
   "cell_type": "code",
   "execution_count": 803,
   "metadata": {},
   "outputs": [
    {
     "name": "stderr",
     "output_type": "stream",
     "text": [
      "/var/folders/w_/nbc8427n7xq85wq4ds42bhp80000gp/T/ipykernel_875/76273221.py:20: RuntimeWarning: divide by zero encountered in log\n",
      "  loss.append(np.sum(y * np.log(1 / (1 + np.exp(-np.dot(x, w)))) + (1 - y) * np.log(1 - 1 / (1 + np.exp(-np.dot(x, w))))) - reg * np.dot(w, w))\n",
      "/var/folders/w_/nbc8427n7xq85wq4ds42bhp80000gp/T/ipykernel_875/76273221.py:20: RuntimeWarning: invalid value encountered in multiply\n",
      "  loss.append(np.sum(y * np.log(1 / (1 + np.exp(-np.dot(x, w)))) + (1 - y) * np.log(1 - 1 / (1 + np.exp(-np.dot(x, w))))) - reg * np.dot(w, w))\n",
      "/var/folders/w_/nbc8427n7xq85wq4ds42bhp80000gp/T/ipykernel_875/76273221.py:20: RuntimeWarning: overflow encountered in exp\n",
      "  loss.append(np.sum(y * np.log(1 / (1 + np.exp(-np.dot(x, w)))) + (1 - y) * np.log(1 - 1 / (1 + np.exp(-np.dot(x, w))))) - reg * np.dot(w, w))\n",
      "/var/folders/w_/nbc8427n7xq85wq4ds42bhp80000gp/T/ipykernel_875/76273221.py:18: RuntimeWarning: overflow encountered in exp\n",
      "  w += lr * (y[i] - 1 / (1 + np.exp(-np.dot(x[i], w)))) * x[i] - 2 * reg * w\n"
     ]
    },
    {
     "name": "stdout",
     "output_type": "stream",
     "text": [
      "Fold done0771964867\n"
     ]
    }
   ],
   "source": [
    "# Train\n",
    "w, loss = sgd(x_train, y_train, reg=1e-5, lr=1e-1, a=0.95, tol=1e-3)"
   ]
  },
  {
   "cell_type": "code",
   "execution_count": 804,
   "metadata": {},
   "outputs": [],
   "source": [
    "# Test\n",
    "y_test = 1 / (1 + np.exp(-np.dot(x_test, w)))\n",
    "predictions = (y_test > 0.5).astype(int)"
   ]
  },
  {
   "cell_type": "code",
   "execution_count": 805,
   "metadata": {},
   "outputs": [],
   "source": [
    "submit = pd.DataFrame({'id': test_data['id'], 'label': predictions})\n",
    "submit.to_csv(\"ans.csv\", index=False)"
   ]
  }
 ],
 "metadata": {
  "kernelspec": {
   "display_name": "base",
   "language": "python",
   "name": "python3"
  },
  "language_info": {
   "codemirror_mode": {
    "name": "ipython",
    "version": 3
   },
   "file_extension": ".py",
   "mimetype": "text/x-python",
   "name": "python",
   "nbconvert_exporter": "python",
   "pygments_lexer": "ipython3",
   "version": "3.9.7"
  },
  "orig_nbformat": 4
 },
 "nbformat": 4,
 "nbformat_minor": 2
}
