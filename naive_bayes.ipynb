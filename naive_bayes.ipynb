{
 "cells": [
  {
   "cell_type": "code",
   "execution_count": 23,
   "metadata": {},
   "outputs": [],
   "source": [
    "import numpy as np\n",
    "import pandas as pd\n",
    "import matplotlib.pyplot as plt\n",
    "\n",
    "train_whole_pd = pd.read_csv('train.csv')\n",
    "\n",
    "# get last 10% of data as test data\n",
    "test_data = train_whole_pd.iloc[int(train_whole_pd.shape[0] * 0.9):, :]"
   ]
  },
  {
   "cell_type": "code",
   "execution_count": 24,
   "metadata": {},
   "outputs": [],
   "source": [
    "def naive_bayes_report_edition(n):\n",
    "\n",
    "    # get first n% of data as train data\n",
    "    temp_train_data = train_whole_pd.iloc[:int(train_whole_pd.shape[0] * 0.9), :]\n",
    "    train_data = temp_train_data.iloc[:int(temp_train_data.shape[0] * n), :]\n",
    "\n",
    "    # Count the number of each label\n",
    "    real = train_data[train_data['label'] == 0]\n",
    "    real_count = real.shape[0]\n",
    "    fake = train_data[train_data['label'] == 1]\n",
    "    fake_count = fake.shape[0]\n",
    "\n",
    "    # Total number of data\n",
    "    total_rows = train_data.shape[0]\n",
    "    assert total_rows == real_count + fake_count\n",
    "\n",
    "    #import as nparray\n",
    "    np_real = np.array(real)\n",
    "    np_real = np_real[:, 1:-1]\n",
    "    np_fake = np.array(fake)\n",
    "    np_fake = np_fake[:, 1:-1]\n",
    "    np_test = np.array(test_data)\n",
    "    # np_test = np_test[:, 1:]\n",
    "    np_test = np_test[:, 1:-1] # Exclusively for the report edition\n",
    "\n",
    "    word_count = np_real.shape[1]\n",
    "\n",
    "    real_sum = np.sum(np_real, axis=0)\n",
    "    fake_sum = np.sum(np_fake, axis=0)\n",
    "\n",
    "    all_real_tokens = np_real.sum()\n",
    "    all_fake_tokens = np_fake.sum()\n",
    "\n",
    "    predictions = []\n",
    "\n",
    "    for i in range(test_data.shape[0]):\n",
    "\n",
    "        log_prior_real = np.log(real_count / total_rows)\n",
    "        log_prior_fake = np.log(fake_count / total_rows)\n",
    "\n",
    "        smoothed_log_likelihood_real = np.sum(np_test[i] * np.log((real_sum + np.ones(real_sum.shape)) / (all_real_tokens + word_count)))\n",
    "        smoothed_log_likelihood_fake = np.sum(np_test[i] * np.log((fake_sum + np.ones(fake_sum.shape)) / (all_fake_tokens + word_count)))\n",
    "\n",
    "        log_pred_real = log_prior_real + smoothed_log_likelihood_real\n",
    "        log_pred_fake = log_prior_fake + smoothed_log_likelihood_fake\n",
    "\n",
    "        predictions.append((log_pred_fake > log_pred_real).astype(int))\n",
    "    return predictions"
   ]
  },
  {
   "cell_type": "code",
   "execution_count": 40,
   "metadata": {},
   "outputs": [],
   "source": [
    "train_size = np.array([0.1, 0.2, 0.3, 0.4, 0.5, 0.6, 0.7, 0.8, 0.9, 1])\n",
    "accuracy = []\n",
    "for i in train_size:\n",
    "    accuracy.append(np.mean(naive_bayes_report_edition(i) == test_data['label']))"
   ]
  },
  {
   "cell_type": "code",
   "execution_count": 41,
   "metadata": {},
   "outputs": [
    {
     "data": {
      "image/png": "[encoded data removed]",
      "text/plain": [
       "<Figure size 432x288 with 1 Axes>"
      ]
     },
     "metadata": {
      "needs_background": "light"
     },
     "output_type": "display_data"
    }
   ],
   "source": [
    "# Plot the accuracy vs. the size of the training set\n",
    "plt.plot(train_size * 100, accuracy, 'o-')\n",
    "plt.ylim(0.75, 1)\n",
    "plt.xticks(train_size * 100)\n",
    "plt.xlabel('Percent of the remaining training data')\n",
    "plt.ylabel('Accuracy')\n",
    "plt.title('Accuracy vs. Size of training set (Naive Bayes, Add-1 Smoothed)')\n",
    "# Export plot as .png\n",
    "plt.savefig('naive_bayes_report_edition.jpg')"
   ]
  }
 ],
 "metadata": {
  "kernelspec": {
   "display_name": "base",
   "language": "python",
   "name": "python3"
  },
  "language_info": {
   "codemirror_mode": {
    "name": "ipython",
    "version": 3
   },
   "file_extension": ".py",
   "mimetype": "text/x-python",
   "name": "python",
   "nbconvert_exporter": "python",
   "pygments_lexer": "ipython3",
   "version": "3.9.7"
  },
  "orig_nbformat": 4
 },
 "nbformat": 4,
 "nbformat_minor": 2
}
