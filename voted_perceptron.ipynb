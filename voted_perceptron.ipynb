{
 "cells": [
  {
   "cell_type": "code",
   "execution_count": 37,
   "metadata": {},
   "outputs": [],
   "source": [
    "import numpy as np\n",
    "import pandas as pd\n",
    "import matplotlib.pyplot as plt\n",
    "\n",
    "train_whole_pd = pd.read_csv('train.csv')\n",
    "\n",
    "# get last 10% of data as test data\n",
    "test_data = train_whole_pd.iloc[int(train_whole_pd.shape[0] * 0.9):, :]"
   ]
  },
  {
   "cell_type": "code",
   "execution_count": 38,
   "metadata": {},
   "outputs": [],
   "source": [
    "def vote_perceptron_report_edition(n):\n",
    "\n",
    "    # get first n% of data as train data\n",
    "    temp_train_data = train_whole_pd.iloc[:int(train_whole_pd.shape[0] * 0.9), :]\n",
    "    train_data = temp_train_data.iloc[:int(temp_train_data.shape[0] * n), :]\n",
    "\n",
    "    # Prepare data\n",
    "    np_train_data = np.array(train_data)\n",
    "    x_train = np_train_data[:, 1:-1]\n",
    "    y_train = np_train_data[:, -1] * 2 - 1 # shift label distribution\n",
    "\n",
    "    np_test_data = np.array(test_data)\n",
    "    x_test = np_test_data[:, 1:-1] # Exclusively for the report edition\n",
    "\n",
    "    # Train\n",
    "    k = 1\n",
    "    c = [0]\n",
    "    w = [np.zeros(x_train.shape[1])]\n",
    "    t = 0\n",
    "    T = 15 # number of rounds\n",
    "    while t <= T:\n",
    "        for i in range(x_train.shape[0]):\n",
    "            if y_train[i] * np.dot(w[k-1], x_train[i]) <= 0:\n",
    "                w.append(w[k-1] + y_train[i] * x_train[i])\n",
    "                c.append(1)\n",
    "                k += 1\n",
    "            else:\n",
    "                c[k-1] += 1\n",
    "        t += 1\n",
    "\n",
    "    # Predict\n",
    "    predictions = []\n",
    "    for i in range(x_test.shape[0]):\n",
    "        pred = 0\n",
    "        for j in range(k):\n",
    "            pred += c[j] * np.sign(np.dot(w[j], x_test[i]))\n",
    "        predictions.append(((np.sign(pred) + 1) / 2).astype(int)) # shift label distribution back\n",
    "\n",
    "    # submit = pd.DataFrame({'id': test_data['id'], 'label': predictions})\n",
    "    # submit.to_csv(\"test_ans.csv\", index=False)\n",
    "\n",
    "    return predictions"
   ]
  },
  {
   "cell_type": "code",
   "execution_count": 46,
   "metadata": {},
   "outputs": [
    {
     "name": "stdout",
     "output_type": "stream",
     "text": [
      "[0.76, 0.82, 0.94, 0.92, 0.94, 0.96, 0.98, 0.98, 0.96, 0.98]\n"
     ]
    }
   ],
   "source": [
    "train_size = np.array([0.01, 0.02, 0.05, 0.1, 0.2, 0.3, 0.5, 0.7, 0.9, 1])\n",
    "accuracy = []\n",
    "for i in train_size:\n",
    "    accuracy.append(np.mean(vote_perceptron_report_edition(i) == test_data['label']))\n",
    "print(accuracy)"
   ]
  },
  {
   "cell_type": "code",
   "execution_count": 47,
   "metadata": {},
   "outputs": [
    {
     "data": {
      "image/png": "[encoded data removed]",
      "text/plain": [
       "<Figure size 432x288 with 1 Axes>"
      ]
     },
     "metadata": {
      "needs_background": "light"
     },
     "output_type": "display_data"
    }
   ],
   "source": [
    "# Plot the accuracy vs. the size of the training set\n",
    "plt.plot(train_size * 100, accuracy, 'o-')\n",
    "plt.ylim(0.75, 1)\n",
    "plt.xticks(train_size * 100)\n",
    "plt.xlabel('Percent of the remaining training data')\n",
    "plt.ylabel('Accuracy')\n",
    "plt.title('Accuracy vs. Size of training set (Voted Perceptron, 15 rounds)')\n",
    "# Export plot as .png\n",
    "plt.savefig('voted_perceptron.jpg')"
   ]
  }
 ],
 "metadata": {
  "kernelspec": {
   "display_name": "base",
   "language": "python",
   "name": "python3"
  },
  "language_info": {
   "codemirror_mode": {
    "name": "ipython",
    "version": 3
   },
   "file_extension": ".py",
   "mimetype": "text/x-python",
   "name": "python",
   "nbconvert_exporter": "python",
   "pygments_lexer": "ipython3",
   "version": "3.9.7"
  },
  "orig_nbformat": 4
 },
 "nbformat": 4,
 "nbformat_minor": 2
}
